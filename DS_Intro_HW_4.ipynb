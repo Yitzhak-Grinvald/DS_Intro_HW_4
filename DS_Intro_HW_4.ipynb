{
 "cells": [
  {
   "cell_type": "code",
   "execution_count": 5,
   "id": "fde05094",
   "metadata": {},
   "outputs": [
    {
     "name": "stdout",
     "output_type": "stream",
     "text": [
      "Istanbul\n",
      "\n",
      "Amsterdam\n",
      "\n",
      "Valletta\n",
      "\n",
      "Basel\n",
      "\n",
      "Doha\n",
      "['Istanbul', 'Amsterdam', 'Valletta', 'Basel', 'Doha']\n",
      "{'Istanbul': ('1,809 km', '20 hours 42 mins', 41.199239, 29.4288049), 'Amsterdam': ('4,528 km', '2 days 0 hours', 52.4311573, 5.0791619), 'Valletta': ('3,783 km', '2 days 2 hours', 35.9036629, 14.5207773), 'Basel': ('4,091 km', '1 day 20 hours', 47.5898833, 7.634099999999999), 'Doha': ('2,104 km', '21 hours 51 mins', 25.4125783, 51.6281212)}\n"
     ]
    }
   ],
   "source": [
    "\n",
    "f= open('dests.txt','r')\n",
    "new_list=[]\n",
    "for city in f:\n",
    "    new_list.append(city.strip())\n",
    "    print(city)\n",
    "print(new_list)\n",
    "import os\n",
    "import urllib\n",
    "import requests\n",
    "import json\n",
    "dict_cities= dict()\n",
    "for city in new_list:\n",
    "    api_key='AIzaSyCHCtey********************'\n",
    "    serviceurl =\"https://maps.googleapis.com/maps/api/distancematrix/json?\"\n",
    "    parms = dict()\n",
    "    parms['origins'] ='Jerusalem'\n",
    "    parms['destinations'] = city\n",
    "    parms['key'] = api_key\n",
    "    address= city\n",
    "    url = serviceurl + urllib.parse.urlencode(parms)\n",
    "    url2=\"https://maps.googleapis.com/maps/api/geocode/json?address=%s&key=%s\" % (address,api_key)\n",
    "    try:\n",
    "        response = requests.get(url)\n",
    "        response2 = requests.get(url2)\n",
    "        if not response.status_code == 200 and response2.status_code == 200:\n",
    "            print(\"HTTP error-response.status_code\")\n",
    "        else:\n",
    "             try:\n",
    "                  response_data =response.json()\n",
    "                  response2_data= response2.json()\n",
    "             except:\n",
    "                        print(\"response not in valid JSON format\")\n",
    "    except:\n",
    "        print(\"Something went wrong with requests.get\") \n",
    "    response = requests.get(url).json()\n",
    "    response2 = requests.get(url2).json()\n",
    "    dict_cities[city] =(response[\"rows\"][0][\"elements\"][0][\"distance\"][\"text\"]\n",
    "                        ,response[\"rows\"][0][\"elements\"][0][\"duration\"][\"text\"]\n",
    "                        ,response2[\"results\"][0][\"geometry\"][\"bounds\"][\"northeast\"][\"lat\"]\n",
    "                        ,response2[\"results\"][0][\"geometry\"][\"bounds\"][\"northeast\"][\"lng\"])\n",
    "print(dict_cities)\n",
    "\n",
    "\n",
    "\n",
    "\n",
    "\n"
   ]
  },
  {
   "cell_type": "code",
   "execution_count": 10,
   "id": "68e1fc03",
   "metadata": {},
   "outputs": [
    {
     "name": "stdout",
     "output_type": "stream",
     "text": [
      "The 3 cities furthest from Jerusalem: ['Amsterdam', 'Basel', 'Valletta']\n"
     ]
    }
   ],
   "source": [
    "list={}\n",
    "for city in dict_cities:\n",
    "     temp= dict_cities[city][0][:-3]\n",
    "     temp=temp.replace(\",\",\"\")\n",
    "     int(temp)\n",
    "     list[city]=temp\n",
    "three_farthest_cities = sorted(list, key=list.get, reverse=True)[:3]\n",
    "print(\"The 3 cities furthest from Jerusalem:\", three_farthest_cities)\n"
   ]
  }
 ],
 "metadata": {
  "kernelspec": {
   "display_name": "Python 3 (ipykernel)",
   "language": "python",
   "name": "python3"
  },
  "language_info": {
   "codemirror_mode": {
    "name": "ipython",
    "version": 3
   },
   "file_extension": ".py",
   "mimetype": "text/x-python",
   "name": "python",
   "nbconvert_exporter": "python",
   "pygments_lexer": "ipython3",
   "version": "3.9.7"
  }
 },
 "nbformat": 4,
 "nbformat_minor": 5
}
